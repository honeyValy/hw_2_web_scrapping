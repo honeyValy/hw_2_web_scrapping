{
 "cells": [
  {
   "cell_type": "code",
   "execution_count": 1,
   "id": "710e9d05",
   "metadata": {},
   "outputs": [],
   "source": [
    "import bs4\n",
    "import requests\n",
    "from fake_headers import Headers"
   ]
  },
  {
   "cell_type": "code",
   "execution_count": 2,
   "id": "3550234f",
   "metadata": {},
   "outputs": [
    {
     "name": "stdout",
     "output_type": "stream",
     "text": [
      "{'Accept': '*/*', 'Connection': 'keep-alive', 'User-Agent': 'Mozilla/5.0 (Windows NT 6.0; WOW64) AppleWebKit/537.36 (KHTML, like Gecko) Chrome/64.0.3282.186 Safari/537.36', 'Accept-Encoding': 'gzip, deflate, br', 'Upgrade-Insecure-Requests': '1', 'Referer': 'https://google.com'}\n"
     ]
    }
   ],
   "source": [
    "# Создаем header \n",
    "header = Headers(\n",
    "        browser=\"chrome\",  # Generate only Chrome UA\n",
    "        os=\"win\",  # Generate ony Windows platform\n",
    "        headers=True  # generate misc headers\n",
    "    )\n",
    "\n",
    "\n",
    "my_header = header.generate()\n",
    "\n",
    "print(my_header)"
   ]
  },
  {
   "cell_type": "code",
   "execution_count": 3,
   "id": "733f56aa",
   "metadata": {},
   "outputs": [],
   "source": [
    "url = 'https://habr.com/ru/all/'"
   ]
  },
  {
   "cell_type": "code",
   "execution_count": 4,
   "id": "42c8aa5c",
   "metadata": {},
   "outputs": [],
   "source": [
    "response = requests.get(url, headers=my_header)"
   ]
  },
  {
   "cell_type": "code",
   "execution_count": 5,
   "id": "4abdbdaa",
   "metadata": {},
   "outputs": [
    {
     "data": {
      "text/plain": [
       "<Response [200]>"
      ]
     },
     "execution_count": 5,
     "metadata": {},
     "output_type": "execute_result"
    }
   ],
   "source": [
    "response"
   ]
  },
  {
   "cell_type": "code",
   "execution_count": 6,
   "id": "52d1bc85",
   "metadata": {},
   "outputs": [],
   "source": [
    "text = response.text"
   ]
  },
  {
   "cell_type": "code",
   "execution_count": 7,
   "id": "68452fa6",
   "metadata": {},
   "outputs": [],
   "source": [
    "soup = bs4.BeautifulSoup(text, features='html.parser')"
   ]
  },
  {
   "cell_type": "code",
   "execution_count": 9,
   "id": "5be755a4",
   "metadata": {},
   "outputs": [],
   "source": [
    "def get_articles(url, header=my_header):\n",
    "    '''\n",
    "    получает список articles\n",
    "    '''\n",
    "    response = requests.get(url, headers=my_header)\n",
    "    text = response.text\n",
    "    soup = bs4.BeautifulSoup(text, features='html.parser')\n",
    "    articles = soup.find_all('article')\n",
    "    return articles"
   ]
  },
  {
   "cell_type": "code",
   "execution_count": 10,
   "id": "92bd7c96",
   "metadata": {},
   "outputs": [],
   "source": [
    "def get_hubs(articles):\n",
    "    '''\n",
    "    получает списки: заголовок статьи, ссылка, дата\n",
    "    '''\n",
    "    hubs_list = []\n",
    "    links_list = []\n",
    "    dates_list = []\n",
    "    for article in articles:\n",
    "        hubs = article.find_all(class_='tm-article-snippet__title tm-article-snippet__title_h2')\n",
    "        hubs = [hub.text.strip() for hub in hubs]\n",
    "        hubs_list.extend(hubs)\n",
    "        links_list.append('https://habr.com' + article.find(class_='tm-article-snippet__title-link').attrs['href'])\n",
    "        dates_list.append(article.find(class_='tm-article-datetime-published').find('time').attrs['title'])\n",
    "    return hubs_list, links_list, dates_list\n",
    "    "
   ]
  },
  {
   "cell_type": "code",
   "execution_count": 14,
   "id": "b1d42178",
   "metadata": {},
   "outputs": [],
   "source": [
    "#Найдем последнюю страницу\n",
    "end_page = int(soup.find_all(class_ = 'tm-pagination__page')[-1].text.strip())\n",
    "hubs = []\n",
    "links = []\n",
    "dates = []\n",
    "for page in range(1, end_page+1):\n",
    "    url = f'https://habr.com/ru/all/page{page}/'\n",
    "    articles = get_articles(url, header=my_header)\n",
    "    h, l, d = get_hubs(articles)\n",
    "    hubs.extend(h)\n",
    "    links.extend(l)\n",
    "    dates.extend(d)"
   ]
  },
  {
   "cell_type": "code",
   "execution_count": 15,
   "id": "98ee8656",
   "metadata": {},
   "outputs": [
    {
     "data": {
      "text/plain": [
       "True"
      ]
     },
     "execution_count": 15,
     "metadata": {},
     "output_type": "execute_result"
    }
   ],
   "source": [
    "len(hubs) == len(links) == len(dates)"
   ]
  },
  {
   "cell_type": "code",
   "execution_count": 16,
   "id": "67a037c6",
   "metadata": {},
   "outputs": [],
   "source": [
    "# Ключевые слова\n",
    "keywords = ['дизайн', 'фото', 'web', 'python']"
   ]
  },
  {
   "cell_type": "code",
   "execution_count": 17,
   "id": "c82cd209",
   "metadata": {},
   "outputs": [],
   "source": [
    "def is_exist_keyword (row, keywords):\n",
    "    '''\n",
    "    проверяет, встречается ли ключевое слово в строке\n",
    "    '''\n",
    "    for word in keywords:\n",
    "        if word in row:\n",
    "            return True\n",
    "    return False"
   ]
  },
  {
   "cell_type": "code",
   "execution_count": 18,
   "id": "1cc64310",
   "metadata": {},
   "outputs": [],
   "source": [
    "# находим индексы заголовок статей, в которых встречаются ключевые слова\n",
    "index = []\n",
    "for i in range(len(hubs)):\n",
    "    is_exist = is_exist_keyword(hubs[i], keywords)\n",
    "    if is_exist:\n",
    "        index.append(i)"
   ]
  },
  {
   "cell_type": "code",
   "execution_count": 19,
   "id": "a8de74eb",
   "metadata": {},
   "outputs": [
    {
     "data": {
      "text/plain": [
       "[7, 225, 328, 601, 625, 667, 719, 956]"
      ]
     },
     "execution_count": 19,
     "metadata": {},
     "output_type": "execute_result"
    }
   ],
   "source": [
    "index"
   ]
  },
  {
   "cell_type": "code",
   "execution_count": 20,
   "id": "16d52338",
   "metadata": {},
   "outputs": [],
   "source": [
    "# Вывести в консоль список подходящих статей в формате: <дата> - <заголовок> - <ссылка>."
   ]
  },
  {
   "cell_type": "code",
   "execution_count": 21,
   "id": "19a60805",
   "metadata": {},
   "outputs": [
    {
     "name": "stdout",
     "output_type": "stream",
     "text": [
      "<2023-02-17, 12:21> - <Проектируем дизайн честного кредитного калькулятора> - <https://habr.com/ru/post/717584/>\n",
      "<2023-02-14, 09:30> - <Пишем чат-бот для Telegram на Python, используя webhook и минимум внешних библиотек> - <https://habr.com/ru/company/digitalleague/blog/716760/>\n",
      "<2023-02-12, 14:16> - <Тест дизайн методом Interface — Model — State> - <https://habr.com/ru/post/716382/>\n",
      "<2023-02-07, 10:01> - <Как стать веб-дизайнером> - <https://habr.com/ru/company/lanit/blog/713708/>\n",
      "<2023-02-06, 16:31> - <Из дизайнера в инженеры: как спроектировать сложный интерфейс, если никто не знает, что должно получиться в итоге> - <https://habr.com/ru/post/713918/>\n",
      "<2023-02-06, 07:00> - <Удаленный доступ к IP камерам. Часть 3. HEVC и web> - <https://habr.com/ru/post/715016/>\n",
      "<2023-02-04, 12:39> - <Комьюнити дизайнеров в продукте> - <https://habr.com/ru/post/714836/>\n",
      "<2023-01-31, 10:44> - <Зачем России гигаваттный завод по производству кремниевых пластин и фотоэлектрических ячеек?> - <https://habr.com/ru/post/713314/>\n"
     ]
    }
   ],
   "source": [
    "for i in index:\n",
    "    print(f'<{dates[i]}> - <{hubs[i]}> - <{links[i]}>')"
   ]
  },
  {
   "cell_type": "markdown",
   "id": "f95fd2e9",
   "metadata": {},
   "source": [
    "## Дополнительное (необязательное) задание"
   ]
  },
  {
   "cell_type": "markdown",
   "id": "bc58ab53",
   "metadata": {},
   "source": [
    "### Улучшить скрипт так, чтобы он анализировал не только preview-информацию статьи, но и весь текст статьи целиком."
   ]
  },
  {
   "cell_type": "code",
   "execution_count": 46,
   "id": "7010159a",
   "metadata": {},
   "outputs": [],
   "source": [
    "def get_article_full_text(url, headers=my_header):\n",
    "    '''\n",
    "    возвращает текст статей\n",
    "    '''\n",
    "    response = requests.get(url, headers=my_header)\n",
    "    text = response.text\n",
    "    soup = bs4.BeautifulSoup(text, features='html.parser')\n",
    "    \n",
    "    article_text = soup.find(class_ = 'article-formatted-body article-formatted-body article-formatted-body_version-2')\n",
    "    if article_text is not None:\n",
    "        return article_text.text\n",
    "    article_text = soup.find(id = 'post-content-body').text\n",
    "    return article_text \n",
    "    "
   ]
  },
  {
   "cell_type": "code",
   "execution_count": 61,
   "id": "aa5a33c2",
   "metadata": {},
   "outputs": [
    {
     "name": "stdout",
     "output_type": "stream",
     "text": [
      "10\n",
      "20\n",
      "30\n",
      "40\n",
      "50\n"
     ]
    }
   ],
   "source": [
    "url = 'https://habr.com/ru/all/'\n",
    "response = requests.get(url, headers=my_header)\n",
    "text = response.text\n",
    "soup = bs4.BeautifulSoup(text, features='html.parser')\n",
    "end_page = int(soup.find_all(class_ = 'tm-pagination__page')[-1].text.strip())\n",
    "hubs = []\n",
    "links = []\n",
    "dates = []\n",
    "full_text = []\n",
    "is_exist_in_article = False\n",
    "is_exist_in_article_full_text = False\n",
    "for page in range(1, end_page+1):\n",
    "    if page % 10 == 0:\n",
    "        print(page)\n",
    "    url = f'https://habr.com/ru/all/page{page}/'\n",
    "    articles = get_articles(url, header=my_header)\n",
    "    h, l, d = get_hubs(articles)\n",
    "\n",
    "    for i in range(len(h)):\n",
    "        articles_full_text = get_article_full_text(l[i], my_header)\n",
    "        is_exist_in_article = is_exist_keyword(h[i], keywords)\n",
    "        is_exist_in_article_full_text = is_exist_keyword(articles_full_text[i], keywords)\n",
    "        if is_exist_in_article or is_exist_in_article_full_text:\n",
    "            hubs.append(h[i])\n",
    "            links.append(l[i])\n",
    "            dates.append(d[i])\n",
    "            full_text.append(articles_full_text)\n",
    "        else:\n",
    "            is_exist_in_article = False\n",
    "            is_exist_in_article_full_text = False"
   ]
  },
  {
   "cell_type": "code",
   "execution_count": 62,
   "id": "07e96a16",
   "metadata": {},
   "outputs": [
    {
     "data": {
      "text/plain": [
       "['Проектируем дизайн честного кредитного калькулятора',\n",
       " 'Пишем чат-бот для Telegram на Python, используя webhook и минимум внешних библиотек',\n",
       " 'Тест дизайн методом Interface — Model — State',\n",
       " 'Как стать веб-дизайнером',\n",
       " 'Из дизайнера в инженеры: как спроектировать сложный интерфейс, если никто не знает, что должно получиться в итоге',\n",
       " 'Удаленный доступ к IP камерам. Часть 3. HEVC и web',\n",
       " 'Комьюнити дизайнеров в продукте',\n",
       " 'Зачем России гигаваттный завод по производству кремниевых пластин и фотоэлектрических ячеек?']"
      ]
     },
     "execution_count": 62,
     "metadata": {},
     "output_type": "execute_result"
    }
   ],
   "source": [
    "hubs"
   ]
  },
  {
   "cell_type": "code",
   "execution_count": 65,
   "id": "d226e4ae",
   "metadata": {},
   "outputs": [
    {
     "name": "stdout",
     "output_type": "stream",
     "text": [
      "<2023-02-17, 12:21> - <Проектируем дизайн честного кредитного калькулятора> - <https://habr.com/ru/post/717584/>\n",
      "<2023-02-14, 09:30> - <Пишем чат-бот для Telegram на Python, используя webhook и минимум внешних библиотек> - <https://habr.com/ru/company/digitalleague/blog/716760/>\n",
      "<2023-02-12, 14:16> - <Тест дизайн методом Interface — Model — State> - <https://habr.com/ru/post/716382/>\n",
      "<2023-02-07, 10:01> - <Как стать веб-дизайнером> - <https://habr.com/ru/company/lanit/blog/713708/>\n",
      "<2023-02-06, 16:31> - <Из дизайнера в инженеры: как спроектировать сложный интерфейс, если никто не знает, что должно получиться в итоге> - <https://habr.com/ru/post/713918/>\n",
      "<2023-02-06, 07:00> - <Удаленный доступ к IP камерам. Часть 3. HEVC и web> - <https://habr.com/ru/post/715016/>\n",
      "<2023-02-04, 12:39> - <Комьюнити дизайнеров в продукте> - <https://habr.com/ru/post/714836/>\n",
      "<2023-01-31, 10:44> - <Зачем России гигаваттный завод по производству кремниевых пластин и фотоэлектрических ячеек?> - <https://habr.com/ru/post/713314/>\n"
     ]
    }
   ],
   "source": [
    "for i in range(len(hubs)):\n",
    "    print(f'<{dates[i]}> - <{hubs[i]}> - <{links[i]}>')"
   ]
  },
  {
   "cell_type": "code",
   "execution_count": 66,
   "id": "b1d2b612",
   "metadata": {},
   "outputs": [],
   "source": [
    "# hubs - список заголовков, в которых есть ключевые слова\n",
    "# dates - список дат статей\n",
    "# links - список ссылок на статьи\n",
    "# full_text - список полных текстов статей, в которых есть клбчевые слова"
   ]
  },
  {
   "cell_type": "code",
   "execution_count": null,
   "id": "9bc9c68a",
   "metadata": {},
   "outputs": [],
   "source": []
  }
 ],
 "metadata": {
  "kernelspec": {
   "display_name": "Python 3",
   "language": "python",
   "name": "python3"
  },
  "language_info": {
   "codemirror_mode": {
    "name": "ipython",
    "version": 3
   },
   "file_extension": ".py",
   "mimetype": "text/x-python",
   "name": "python",
   "nbconvert_exporter": "python",
   "pygments_lexer": "ipython3",
   "version": "3.9.2"
  }
 },
 "nbformat": 4,
 "nbformat_minor": 5
}
